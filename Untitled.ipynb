{
 "cells": [
  {
   "cell_type": "code",
   "execution_count": 1,
   "metadata": {},
   "outputs": [
    {
     "name": "stderr",
     "output_type": "stream",
     "text": [
      "/Users/dforeman/anaconda/lib/python3.6/site-packages/h5py/__init__.py:36: FutureWarning: Conversion of the second argument of issubdtype from `float` to `np.floating` is deprecated. In future, it will be treated as `np.float64 == np.dtype(float).type`.\n",
      "  from ._conv import register_converters as _register_converters\n"
     ]
    }
   ],
   "source": [
    "%matplotlib inline\n",
    "import numpy as np\n",
    "import matplotlib.pyplot as plt\n",
    "import tensorflow as tf\n",
    "\n",
    "from scipy.interpolate import RegularGridInterpolator\n",
    "\n",
    "session = tf.Session()"
   ]
  },
  {
   "cell_type": "code",
   "execution_count": 2,
   "metadata": {},
   "outputs": [],
   "source": [
    "from interp.ops import regular_op"
   ]
  },
  {
   "cell_type": "code",
   "execution_count": 31,
   "metadata": {},
   "outputs": [
    {
     "name": "stdout",
     "output_type": "stream",
     "text": [
      "(100, 500, 90, 12) (50, 13, 4)\n"
     ]
    },
    {
     "data": {
      "text/plain": [
       "<tf.Tensor 'InterpRegular_8:0' shape=(50, 13) dtype=float64>"
      ]
     },
     "execution_count": 31,
     "metadata": {},
     "output_type": "execute_result"
    }
   ],
   "source": [
    "shape = [100, 500, 90, 12]\n",
    "\n",
    "points = [np.linspace(1, 2, s) for s in shape]\n",
    "values = np.prod([np.sin(x) for x in np.meshgrid(*points, indexing=\"ij\")], axis=0)\n",
    "xi = np.sort(np.random.uniform(1, 2, (50, 13, len(shape))), axis=0)\n",
    "print(values.shape, xi.shape)\n",
    "Z = regular_op.interp_regular(points, values, xi)\n",
    "\n",
    "Z"
   ]
  },
  {
   "cell_type": "code",
   "execution_count": 32,
   "metadata": {},
   "outputs": [
    {
     "name": "stdout",
     "output_type": "stream",
     "text": [
      "10000 loops, best of 3: 79.7 µs per loop\n"
     ]
    }
   ],
   "source": [
    "session.run(Z)\n",
    "%timeit session.run(Z)"
   ]
  },
  {
   "cell_type": "code",
   "execution_count": 33,
   "metadata": {},
   "outputs": [
    {
     "name": "stdout",
     "output_type": "stream",
     "text": [
      "The slowest run took 4.58 times longer than the fastest. This could mean that an intermediate result is being cached.\n",
      "1000 loops, best of 3: 809 µs per loop\n"
     ]
    }
   ],
   "source": [
    "interp = RegularGridInterpolator(points, values)\n",
    "%timeit interp(xi)"
   ]
  },
  {
   "cell_type": "code",
   "execution_count": 22,
   "metadata": {},
   "outputs": [
    {
     "data": {
      "text/plain": [
       "array([[ 0.00000000e+00,  0.00000000e+00,  1.11022302e-16,\n",
       "         0.00000000e+00,  1.11022302e-16,  0.00000000e+00,\n",
       "        -2.22044605e-16, -1.11022302e-16, -1.11022302e-16,\n",
       "        -2.22044605e-16,  0.00000000e+00,  0.00000000e+00,\n",
       "        -1.11022302e-16],\n",
       "       [-1.11022302e-16,  1.11022302e-16, -2.22044605e-16,\n",
       "         0.00000000e+00,  0.00000000e+00,  0.00000000e+00,\n",
       "         0.00000000e+00, -1.11022302e-16,  0.00000000e+00,\n",
       "         1.11022302e-16, -2.22044605e-16,  0.00000000e+00,\n",
       "         1.11022302e-16],\n",
       "       [ 0.00000000e+00,  0.00000000e+00,  1.11022302e-16,\n",
       "        -2.22044605e-16,  1.11022302e-16,  0.00000000e+00,\n",
       "         0.00000000e+00,  0.00000000e+00,  0.00000000e+00,\n",
       "         1.11022302e-16,  0.00000000e+00, -1.11022302e-16,\n",
       "         1.11022302e-16],\n",
       "       [-1.11022302e-16, -1.11022302e-16,  1.11022302e-16,\n",
       "         0.00000000e+00, -1.11022302e-16, -1.11022302e-16,\n",
       "         0.00000000e+00,  1.11022302e-16,  0.00000000e+00,\n",
       "         0.00000000e+00,  0.00000000e+00,  0.00000000e+00,\n",
       "        -1.11022302e-16],\n",
       "       [ 2.22044605e-16,  0.00000000e+00,  0.00000000e+00,\n",
       "         0.00000000e+00, -2.22044605e-16,  1.11022302e-16,\n",
       "         0.00000000e+00,  1.11022302e-16, -1.11022302e-16,\n",
       "         1.11022302e-16,  1.11022302e-16,  0.00000000e+00,\n",
       "         0.00000000e+00],\n",
       "       [-1.11022302e-16,  1.11022302e-16, -1.11022302e-16,\n",
       "         0.00000000e+00,  1.11022302e-16,  0.00000000e+00,\n",
       "         1.11022302e-16,  0.00000000e+00,  0.00000000e+00,\n",
       "        -1.11022302e-16,  0.00000000e+00,  0.00000000e+00,\n",
       "        -2.22044605e-16],\n",
       "       [ 0.00000000e+00,  1.11022302e-16,  0.00000000e+00,\n",
       "         0.00000000e+00,  0.00000000e+00,  1.11022302e-16,\n",
       "        -1.11022302e-16,  0.00000000e+00,  0.00000000e+00,\n",
       "         1.11022302e-16, -1.11022302e-16,  0.00000000e+00,\n",
       "         0.00000000e+00],\n",
       "       [ 1.11022302e-16,  0.00000000e+00,  0.00000000e+00,\n",
       "         0.00000000e+00,  0.00000000e+00,  1.11022302e-16,\n",
       "        -1.11022302e-16,  0.00000000e+00,  0.00000000e+00,\n",
       "        -1.11022302e-16,  0.00000000e+00,  1.11022302e-16,\n",
       "         1.11022302e-16],\n",
       "       [-2.22044605e-16,  0.00000000e+00,  1.11022302e-16,\n",
       "         0.00000000e+00,  0.00000000e+00,  2.22044605e-16,\n",
       "         0.00000000e+00,  1.11022302e-16,  0.00000000e+00,\n",
       "         1.11022302e-16,  1.11022302e-16,  0.00000000e+00,\n",
       "         0.00000000e+00],\n",
       "       [ 0.00000000e+00, -2.22044605e-16,  2.22044605e-16,\n",
       "         0.00000000e+00,  0.00000000e+00,  0.00000000e+00,\n",
       "        -1.11022302e-16,  1.11022302e-16,  0.00000000e+00,\n",
       "         0.00000000e+00,  0.00000000e+00,  1.11022302e-16,\n",
       "        -1.11022302e-16],\n",
       "       [ 0.00000000e+00,  1.11022302e-16,  0.00000000e+00,\n",
       "         0.00000000e+00, -1.11022302e-16, -1.11022302e-16,\n",
       "         0.00000000e+00,  0.00000000e+00,  0.00000000e+00,\n",
       "        -1.11022302e-16,  1.11022302e-16, -2.22044605e-16,\n",
       "        -1.11022302e-16],\n",
       "       [ 0.00000000e+00,  0.00000000e+00,  1.11022302e-16,\n",
       "         0.00000000e+00, -2.22044605e-16, -1.11022302e-16,\n",
       "         0.00000000e+00,  0.00000000e+00,  2.22044605e-16,\n",
       "         0.00000000e+00,  0.00000000e+00, -2.22044605e-16,\n",
       "        -1.11022302e-16],\n",
       "       [ 1.11022302e-16,  3.33066907e-16, -1.11022302e-16,\n",
       "        -1.11022302e-16,  0.00000000e+00,  0.00000000e+00,\n",
       "         0.00000000e+00, -1.11022302e-16,  0.00000000e+00,\n",
       "        -1.11022302e-16,  0.00000000e+00, -1.11022302e-16,\n",
       "         1.11022302e-16],\n",
       "       [-1.11022302e-16,  0.00000000e+00, -1.11022302e-16,\n",
       "         0.00000000e+00, -1.11022302e-16,  1.11022302e-16,\n",
       "        -1.11022302e-16,  0.00000000e+00,  1.11022302e-16,\n",
       "         1.11022302e-16, -1.11022302e-16,  1.11022302e-16,\n",
       "         2.22044605e-16],\n",
       "       [ 1.11022302e-16,  1.11022302e-16, -1.11022302e-16,\n",
       "        -2.22044605e-16, -1.11022302e-16,  1.11022302e-16,\n",
       "         0.00000000e+00,  2.22044605e-16,  1.11022302e-16,\n",
       "         0.00000000e+00,  0.00000000e+00, -1.11022302e-16,\n",
       "        -1.11022302e-16],\n",
       "       [ 0.00000000e+00,  0.00000000e+00, -1.11022302e-16,\n",
       "         0.00000000e+00,  0.00000000e+00,  1.11022302e-16,\n",
       "         1.11022302e-16,  0.00000000e+00,  0.00000000e+00,\n",
       "         0.00000000e+00, -1.11022302e-16,  2.22044605e-16,\n",
       "        -1.11022302e-16],\n",
       "       [ 0.00000000e+00,  2.22044605e-16,  1.11022302e-16,\n",
       "         2.22044605e-16,  1.11022302e-16,  0.00000000e+00,\n",
       "        -1.11022302e-16,  0.00000000e+00,  0.00000000e+00,\n",
       "         1.11022302e-16, -2.22044605e-16, -1.11022302e-16,\n",
       "         1.11022302e-16],\n",
       "       [ 0.00000000e+00, -1.11022302e-16,  0.00000000e+00,\n",
       "         1.11022302e-16, -1.11022302e-16,  0.00000000e+00,\n",
       "         0.00000000e+00,  0.00000000e+00,  0.00000000e+00,\n",
       "        -1.11022302e-16,  1.11022302e-16,  0.00000000e+00,\n",
       "         2.22044605e-16],\n",
       "       [ 0.00000000e+00, -1.11022302e-16,  0.00000000e+00,\n",
       "         0.00000000e+00,  0.00000000e+00,  0.00000000e+00,\n",
       "         0.00000000e+00, -1.11022302e-16,  0.00000000e+00,\n",
       "        -1.11022302e-16,  0.00000000e+00,  0.00000000e+00,\n",
       "         1.11022302e-16],\n",
       "       [ 0.00000000e+00,  3.33066907e-16,  0.00000000e+00,\n",
       "        -1.11022302e-16,  1.11022302e-16,  0.00000000e+00,\n",
       "         0.00000000e+00,  0.00000000e+00,  0.00000000e+00,\n",
       "         0.00000000e+00, -1.11022302e-16,  0.00000000e+00,\n",
       "         0.00000000e+00],\n",
       "       [ 0.00000000e+00,  0.00000000e+00,  1.11022302e-16,\n",
       "         0.00000000e+00, -1.11022302e-16,  0.00000000e+00,\n",
       "         0.00000000e+00,  0.00000000e+00, -1.11022302e-16,\n",
       "         0.00000000e+00,  0.00000000e+00, -1.11022302e-16,\n",
       "        -1.11022302e-16],\n",
       "       [ 2.22044605e-16,  0.00000000e+00, -1.11022302e-16,\n",
       "        -1.11022302e-16,  0.00000000e+00,  0.00000000e+00,\n",
       "         0.00000000e+00,  0.00000000e+00,  0.00000000e+00,\n",
       "        -3.33066907e-16, -2.22044605e-16, -1.11022302e-16,\n",
       "         0.00000000e+00],\n",
       "       [ 1.11022302e-16,  0.00000000e+00,  2.22044605e-16,\n",
       "        -1.11022302e-16,  0.00000000e+00,  0.00000000e+00,\n",
       "        -1.11022302e-16, -1.11022302e-16,  0.00000000e+00,\n",
       "         0.00000000e+00,  0.00000000e+00,  1.11022302e-16,\n",
       "         0.00000000e+00],\n",
       "       [-1.11022302e-16, -1.11022302e-16,  0.00000000e+00,\n",
       "        -2.22044605e-16,  1.11022302e-16,  0.00000000e+00,\n",
       "         0.00000000e+00,  1.11022302e-16,  0.00000000e+00,\n",
       "         2.22044605e-16,  1.11022302e-16,  0.00000000e+00,\n",
       "         0.00000000e+00],\n",
       "       [-1.11022302e-16, -1.11022302e-16, -1.11022302e-16,\n",
       "         0.00000000e+00,  0.00000000e+00,  0.00000000e+00,\n",
       "         1.11022302e-16, -2.22044605e-16,  0.00000000e+00,\n",
       "         1.11022302e-16,  0.00000000e+00,  0.00000000e+00,\n",
       "         0.00000000e+00],\n",
       "       [ 2.22044605e-16,  0.00000000e+00, -2.22044605e-16,\n",
       "         1.11022302e-16,  0.00000000e+00,  1.11022302e-16,\n",
       "         0.00000000e+00, -2.22044605e-16,  0.00000000e+00,\n",
       "         0.00000000e+00,  0.00000000e+00, -3.33066907e-16,\n",
       "        -1.11022302e-16],\n",
       "       [ 1.11022302e-16,  0.00000000e+00,  0.00000000e+00,\n",
       "         0.00000000e+00,  0.00000000e+00,  0.00000000e+00,\n",
       "         0.00000000e+00,  0.00000000e+00,  0.00000000e+00,\n",
       "         0.00000000e+00,  1.11022302e-16,  0.00000000e+00,\n",
       "         0.00000000e+00],\n",
       "       [-2.22044605e-16, -2.22044605e-16,  0.00000000e+00,\n",
       "        -2.22044605e-16,  0.00000000e+00, -1.11022302e-16,\n",
       "         0.00000000e+00, -2.22044605e-16, -1.11022302e-16,\n",
       "        -1.11022302e-16,  0.00000000e+00,  1.11022302e-16,\n",
       "        -1.11022302e-16],\n",
       "       [ 1.11022302e-16,  1.11022302e-16,  0.00000000e+00,\n",
       "         1.11022302e-16,  1.11022302e-16,  0.00000000e+00,\n",
       "         0.00000000e+00,  0.00000000e+00,  0.00000000e+00,\n",
       "         0.00000000e+00,  0.00000000e+00,  2.22044605e-16,\n",
       "         1.11022302e-16],\n",
       "       [ 0.00000000e+00, -2.22044605e-16, -1.11022302e-16,\n",
       "        -1.11022302e-16,  1.11022302e-16,  0.00000000e+00,\n",
       "         0.00000000e+00,  1.11022302e-16,  0.00000000e+00,\n",
       "         2.22044605e-16, -1.11022302e-16,  1.11022302e-16,\n",
       "         1.11022302e-16],\n",
       "       [ 1.11022302e-16, -1.11022302e-16,  0.00000000e+00,\n",
       "        -1.11022302e-16, -1.11022302e-16, -2.22044605e-16,\n",
       "         0.00000000e+00,  0.00000000e+00,  0.00000000e+00,\n",
       "         1.11022302e-16,  0.00000000e+00,  1.11022302e-16,\n",
       "         0.00000000e+00],\n",
       "       [ 0.00000000e+00,  0.00000000e+00, -2.22044605e-16,\n",
       "         2.22044605e-16,  1.11022302e-16,  0.00000000e+00,\n",
       "         0.00000000e+00,  0.00000000e+00, -2.22044605e-16,\n",
       "         0.00000000e+00,  0.00000000e+00,  0.00000000e+00,\n",
       "        -1.11022302e-16],\n",
       "       [ 0.00000000e+00,  0.00000000e+00,  1.11022302e-16,\n",
       "        -1.11022302e-16, -2.22044605e-16, -1.11022302e-16,\n",
       "         0.00000000e+00,  0.00000000e+00,  0.00000000e+00,\n",
       "         1.11022302e-16, -1.11022302e-16,  1.11022302e-16,\n",
       "         2.22044605e-16],\n",
       "       [ 0.00000000e+00,  2.22044605e-16,  0.00000000e+00,\n",
       "        -1.11022302e-16, -1.11022302e-16,  0.00000000e+00,\n",
       "         0.00000000e+00, -1.11022302e-16, -1.11022302e-16,\n",
       "         1.11022302e-16, -1.11022302e-16, -1.11022302e-16,\n",
       "         0.00000000e+00],\n",
       "       [ 0.00000000e+00,  1.11022302e-16, -1.11022302e-16,\n",
       "        -1.11022302e-16,  0.00000000e+00,  1.11022302e-16,\n",
       "        -1.11022302e-16, -1.11022302e-16,  0.00000000e+00,\n",
       "         0.00000000e+00,  1.11022302e-16, -1.11022302e-16,\n",
       "        -1.11022302e-16],\n",
       "       [ 1.11022302e-16,  1.11022302e-16,  0.00000000e+00,\n",
       "         1.11022302e-16,  0.00000000e+00, -1.11022302e-16,\n",
       "        -1.11022302e-16,  0.00000000e+00,  0.00000000e+00,\n",
       "        -1.11022302e-16,  0.00000000e+00,  0.00000000e+00,\n",
       "         0.00000000e+00],\n",
       "       [-2.22044605e-16,  0.00000000e+00,  0.00000000e+00,\n",
       "         1.11022302e-16, -1.11022302e-16, -1.11022302e-16,\n",
       "         1.11022302e-16, -3.33066907e-16, -1.11022302e-16,\n",
       "         1.11022302e-16, -1.11022302e-16,  0.00000000e+00,\n",
       "        -2.22044605e-16],\n",
       "       [ 0.00000000e+00,  0.00000000e+00,  0.00000000e+00,\n",
       "         0.00000000e+00, -2.22044605e-16,  0.00000000e+00,\n",
       "         0.00000000e+00,  0.00000000e+00,  1.11022302e-16,\n",
       "        -1.11022302e-16, -1.11022302e-16,  1.11022302e-16,\n",
       "         1.11022302e-16],\n",
       "       [ 0.00000000e+00, -1.11022302e-16, -1.11022302e-16,\n",
       "         1.11022302e-16,  1.11022302e-16,  0.00000000e+00,\n",
       "         0.00000000e+00,  0.00000000e+00, -1.11022302e-16,\n",
       "         0.00000000e+00,  1.11022302e-16,  0.00000000e+00,\n",
       "         1.11022302e-16],\n",
       "       [ 1.11022302e-16,  1.11022302e-16, -1.11022302e-16,\n",
       "        -1.11022302e-16, -1.11022302e-16, -1.11022302e-16,\n",
       "        -2.22044605e-16, -1.11022302e-16,  0.00000000e+00,\n",
       "         0.00000000e+00,  0.00000000e+00, -1.11022302e-16,\n",
       "        -2.22044605e-16],\n",
       "       [ 0.00000000e+00,  1.11022302e-16, -1.11022302e-16,\n",
       "        -1.11022302e-16,  2.22044605e-16,  1.11022302e-16,\n",
       "        -1.11022302e-16,  0.00000000e+00,  1.11022302e-16,\n",
       "         1.11022302e-16,  0.00000000e+00,  0.00000000e+00,\n",
       "        -1.11022302e-16],\n",
       "       [ 1.11022302e-16,  0.00000000e+00,  0.00000000e+00,\n",
       "         0.00000000e+00,  0.00000000e+00, -1.11022302e-16,\n",
       "        -1.11022302e-16,  0.00000000e+00,  0.00000000e+00,\n",
       "         1.11022302e-16, -1.11022302e-16,  0.00000000e+00,\n",
       "         0.00000000e+00],\n",
       "       [ 0.00000000e+00,  0.00000000e+00,  0.00000000e+00,\n",
       "         1.11022302e-16,  1.11022302e-16,  0.00000000e+00,\n",
       "         0.00000000e+00,  0.00000000e+00,  0.00000000e+00,\n",
       "         0.00000000e+00,  1.11022302e-16, -1.11022302e-16,\n",
       "         0.00000000e+00],\n",
       "       [ 0.00000000e+00,  1.11022302e-16,  0.00000000e+00,\n",
       "         1.11022302e-16,  0.00000000e+00,  1.11022302e-16,\n",
       "         0.00000000e+00,  0.00000000e+00,  0.00000000e+00,\n",
       "         1.11022302e-16,  1.11022302e-16, -1.11022302e-16,\n",
       "         0.00000000e+00],\n",
       "       [ 0.00000000e+00, -1.11022302e-16,  0.00000000e+00,\n",
       "         1.11022302e-16, -1.11022302e-16, -2.22044605e-16,\n",
       "         0.00000000e+00,  0.00000000e+00,  1.11022302e-16,\n",
       "         2.22044605e-16,  1.11022302e-16,  0.00000000e+00,\n",
       "        -1.11022302e-16],\n",
       "       [ 1.11022302e-16, -1.11022302e-16,  0.00000000e+00,\n",
       "         0.00000000e+00,  1.11022302e-16,  0.00000000e+00,\n",
       "         2.22044605e-16, -1.11022302e-16,  0.00000000e+00,\n",
       "         0.00000000e+00, -1.11022302e-16, -1.11022302e-16,\n",
       "         1.11022302e-16],\n",
       "       [-1.11022302e-16, -2.22044605e-16,  0.00000000e+00,\n",
       "         1.11022302e-16,  2.22044605e-16,  1.11022302e-16,\n",
       "         0.00000000e+00,  0.00000000e+00,  0.00000000e+00,\n",
       "         0.00000000e+00,  0.00000000e+00,  0.00000000e+00,\n",
       "         1.11022302e-16],\n",
       "       [-1.11022302e-16,  1.11022302e-16,  0.00000000e+00,\n",
       "         0.00000000e+00,  0.00000000e+00, -1.11022302e-16,\n",
       "         0.00000000e+00,  0.00000000e+00, -1.11022302e-16,\n",
       "         0.00000000e+00,  0.00000000e+00,  0.00000000e+00,\n",
       "        -1.11022302e-16],\n",
       "       [ 1.11022302e-16,  1.11022302e-16, -1.11022302e-16,\n",
       "         0.00000000e+00,  1.11022302e-16,  2.22044605e-16,\n",
       "         1.11022302e-16,  0.00000000e+00, -1.11022302e-16,\n",
       "         0.00000000e+00,  0.00000000e+00,  0.00000000e+00,\n",
       "         2.22044605e-16],\n",
       "       [-1.11022302e-16,  1.11022302e-16,  0.00000000e+00,\n",
       "         0.00000000e+00,  0.00000000e+00,  0.00000000e+00,\n",
       "         0.00000000e+00, -2.22044605e-16,  0.00000000e+00,\n",
       "        -1.11022302e-16, -1.11022302e-16,  0.00000000e+00,\n",
       "        -1.11022302e-16]])"
      ]
     },
     "execution_count": 22,
     "metadata": {},
     "output_type": "execute_result"
    }
   ],
   "source": [
    "interp = RegularGridInterpolator(points, values)\n",
    "\n",
    "interp(xi) - session.run(Z)"
   ]
  },
  {
   "cell_type": "code",
   "execution_count": 6,
   "metadata": {},
   "outputs": [
    {
     "data": {
      "text/plain": [
       "[<matplotlib.lines.Line2D at 0x181fe3b7b8>]"
      ]
     },
     "execution_count": 6,
     "metadata": {},
     "output_type": "execute_result"
    },
    {
     "data": {
      "image/png": "[encoded data removed]",
      "text/plain": [
       "<Figure size 432x288 with 1 Axes>"
      ]
     },
     "metadata": {},
     "output_type": "display_data"
    }
   ],
   "source": [
    "plt.plot(xi, interp(xi))\n",
    "plt.plot(points[0], values)"
   ]
  },
  {
   "cell_type": "code",
   "execution_count": null,
   "metadata": {},
   "outputs": [],
   "source": []
  },
  {
   "cell_type": "code",
   "execution_count": 5,
   "metadata": {},
   "outputs": [],
   "source": [
    "# dim = 9\n",
    "# for ind in range(2**dim):\n",
    "#     for k in range(dim):\n",
    "#         print((ind >> k) & 1, end=\" \")\n",
    "#     print()"
   ]
  },
  {
   "cell_type": "code",
   "execution_count": 5,
   "metadata": {},
   "outputs": [],
   "source": [
    "import itertools"
   ]
  },
  {
   "cell_type": "code",
   "execution_count": 6,
   "metadata": {},
   "outputs": [
    {
     "data": {
      "text/plain": [
       "[(array([ 5, 10]), array([0, 3]), array([2, 8])),\n",
       " (array([ 5, 10]), array([0, 3]), array([3, 9])),\n",
       " (array([ 5, 10]), array([1, 4]), array([2, 8])),\n",
       " (array([ 5, 10]), array([1, 4]), array([3, 9])),\n",
       " (array([ 6, 11]), array([0, 3]), array([2, 8])),\n",
       " (array([ 6, 11]), array([0, 3]), array([3, 9])),\n",
       " (array([ 6, 11]), array([1, 4]), array([2, 8])),\n",
       " (array([ 6, 11]), array([1, 4]), array([3, 9]))]"
      ]
     },
     "execution_count": 6,
     "metadata": {},
     "output_type": "execute_result"
    }
   ],
   "source": [
    "indices = [np.array([5, 10]), np.array([0, 3]), np.array([2, 8])]\n",
    "list(itertools.product(*[[i, i + 1] for i in indices]))"
   ]
  },
  {
   "cell_type": "code",
   "execution_count": null,
   "metadata": {},
   "outputs": [],
   "source": []
  }
 ],
 "metadata": {
  "kernelspec": {
   "display_name": "Python 3",
   "language": "python",
   "name": "python3"
  },
  "language_info": {
   "codemirror_mode": {
    "name": "ipython",
    "version": 3
   },
   "file_extension": ".py",
   "mimetype": "text/x-python",
   "name": "python",
   "nbconvert_exporter": "python",
   "pygments_lexer": "ipython3",
   "version": "3.6.1"
  }
 },
 "nbformat": 4,
 "nbformat_minor": 2
}
