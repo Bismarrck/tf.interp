{
 "cells": [
  {
   "cell_type": "code",
   "execution_count": 1,
   "metadata": {},
   "outputs": [
    {
     "name": "stderr",
     "output_type": "stream",
     "text": [
      "/Users/dforeman/anaconda/lib/python3.6/site-packages/h5py/__init__.py:36: FutureWarning: Conversion of the second argument of issubdtype from `float` to `np.floating` is deprecated. In future, it will be treated as `np.float64 == np.dtype(float).type`.\n",
      "  from ._conv import register_converters as _register_converters\n"
     ]
    }
   ],
   "source": [
    "%matplotlib inline\n",
    "import numpy as np\n",
    "import matplotlib.pyplot as plt\n",
    "import tensorflow as tf\n",
    "\n",
    "from scipy.interpolate import RegularGridInterpolator\n",
    "\n",
    "session = tf.Session()"
   ]
  },
  {
   "cell_type": "code",
   "execution_count": 2,
   "metadata": {},
   "outputs": [],
   "source": [
    "from interp.ops import regular_op"
   ]
  },
  {
   "cell_type": "code",
   "execution_count": 10,
   "metadata": {},
   "outputs": [
    {
     "name": "stdout",
     "output_type": "stream",
     "text": [
      "(4, 6, 1, 3) (5, 3, 4)\n"
     ]
    },
    {
     "ename": "ValueError",
     "evalue": "Dimension 0 in both shapes must be equal, but are 10 and 4. Shapes are [10,5,6,8] and [4,6,1,3]. for 'InterpRegular_4' (op: 'InterpRegular') with input shapes: [10], [5], [6], [8], [4,6,1,3], [5,3,4].",
     "output_type": "error",
     "traceback": [
      "\u001b[0;31m---------------------------------------------------------------------------\u001b[0m",
      "\u001b[0;31mInvalidArgumentError\u001b[0m                      Traceback (most recent call last)",
      "\u001b[0;32m/Users/dforeman/anaconda/lib/python3.6/site-packages/tensorflow/python/framework/common_shapes.py\u001b[0m in \u001b[0;36m_call_cpp_shape_fn_impl\u001b[0;34m(op, input_tensors_needed, input_tensors_as_shapes_needed, require_shape_fn)\u001b[0m\n\u001b[1;32m    685\u001b[0m           \u001b[0mgraph_def_version\u001b[0m\u001b[0;34m,\u001b[0m \u001b[0mnode_def_str\u001b[0m\u001b[0;34m,\u001b[0m \u001b[0minput_shapes\u001b[0m\u001b[0;34m,\u001b[0m \u001b[0minput_tensors\u001b[0m\u001b[0;34m,\u001b[0m\u001b[0;34m\u001b[0m\u001b[0m\n\u001b[0;32m--> 686\u001b[0;31m           input_tensors_as_shapes, status)\n\u001b[0m\u001b[1;32m    687\u001b[0m   \u001b[0;32mexcept\u001b[0m \u001b[0merrors\u001b[0m\u001b[0;34m.\u001b[0m\u001b[0mInvalidArgumentError\u001b[0m \u001b[0;32mas\u001b[0m \u001b[0merr\u001b[0m\u001b[0;34m:\u001b[0m\u001b[0;34m\u001b[0m\u001b[0m\n",
      "\u001b[0;32m/Users/dforeman/anaconda/lib/python3.6/site-packages/tensorflow/python/framework/errors_impl.py\u001b[0m in \u001b[0;36m__exit__\u001b[0;34m(self, type_arg, value_arg, traceback_arg)\u001b[0m\n\u001b[1;32m    515\u001b[0m             \u001b[0mcompat\u001b[0m\u001b[0;34m.\u001b[0m\u001b[0mas_text\u001b[0m\u001b[0;34m(\u001b[0m\u001b[0mc_api\u001b[0m\u001b[0;34m.\u001b[0m\u001b[0mTF_Message\u001b[0m\u001b[0;34m(\u001b[0m\u001b[0mself\u001b[0m\u001b[0;34m.\u001b[0m\u001b[0mstatus\u001b[0m\u001b[0;34m.\u001b[0m\u001b[0mstatus\u001b[0m\u001b[0;34m)\u001b[0m\u001b[0;34m)\u001b[0m\u001b[0;34m,\u001b[0m\u001b[0;34m\u001b[0m\u001b[0m\n\u001b[0;32m--> 516\u001b[0;31m             c_api.TF_GetCode(self.status.status))\n\u001b[0m\u001b[1;32m    517\u001b[0m     \u001b[0;31m# Delete the underlying status object from memory otherwise it stays alive\u001b[0m\u001b[0;34m\u001b[0m\u001b[0;34m\u001b[0m\u001b[0m\n",
      "\u001b[0;31mInvalidArgumentError\u001b[0m: Dimension 0 in both shapes must be equal, but are 10 and 4. Shapes are [10,5,6,8] and [4,6,1,3]. for 'InterpRegular_4' (op: 'InterpRegular') with input shapes: [10], [5], [6], [8], [4,6,1,3], [5,3,4].",
      "\nDuring handling of the above exception, another exception occurred:\n",
      "\u001b[0;31mValueError\u001b[0m                                Traceback (most recent call last)",
      "\u001b[0;32m<ipython-input-10-cfffdc31899c>\u001b[0m in \u001b[0;36m<module>\u001b[0;34m()\u001b[0m\n\u001b[1;32m      5\u001b[0m \u001b[0mxi\u001b[0m \u001b[0;34m=\u001b[0m \u001b[0mnp\u001b[0m\u001b[0;34m.\u001b[0m\u001b[0msort\u001b[0m\u001b[0;34m(\u001b[0m\u001b[0mnp\u001b[0m\u001b[0;34m.\u001b[0m\u001b[0mrandom\u001b[0m\u001b[0;34m.\u001b[0m\u001b[0muniform\u001b[0m\u001b[0;34m(\u001b[0m\u001b[0;36m1\u001b[0m\u001b[0;34m,\u001b[0m \u001b[0;36m2\u001b[0m\u001b[0;34m,\u001b[0m \u001b[0;34m(\u001b[0m\u001b[0;36m5\u001b[0m\u001b[0;34m,\u001b[0m \u001b[0;36m3\u001b[0m\u001b[0;34m,\u001b[0m \u001b[0mlen\u001b[0m\u001b[0;34m(\u001b[0m\u001b[0mshape\u001b[0m\u001b[0;34m)\u001b[0m\u001b[0;34m)\u001b[0m\u001b[0;34m)\u001b[0m\u001b[0;34m,\u001b[0m \u001b[0maxis\u001b[0m\u001b[0;34m=\u001b[0m\u001b[0;36m0\u001b[0m\u001b[0;34m)\u001b[0m\u001b[0;34m\u001b[0m\u001b[0m\n\u001b[1;32m      6\u001b[0m \u001b[0mprint\u001b[0m\u001b[0;34m(\u001b[0m\u001b[0mvalues\u001b[0m\u001b[0;34m.\u001b[0m\u001b[0mshape\u001b[0m\u001b[0;34m,\u001b[0m \u001b[0mxi\u001b[0m\u001b[0;34m.\u001b[0m\u001b[0mshape\u001b[0m\u001b[0;34m)\u001b[0m\u001b[0;34m\u001b[0m\u001b[0m\n\u001b[0;32m----> 7\u001b[0;31m \u001b[0mZ\u001b[0m\u001b[0;34m,\u001b[0m \u001b[0mdZ\u001b[0m \u001b[0;34m=\u001b[0m \u001b[0mregular_op\u001b[0m\u001b[0;34m.\u001b[0m\u001b[0minterp_regular\u001b[0m\u001b[0;34m(\u001b[0m\u001b[0mpoints\u001b[0m\u001b[0;34m,\u001b[0m \u001b[0mvalues\u001b[0m\u001b[0;34m,\u001b[0m \u001b[0mxi\u001b[0m\u001b[0;34m)\u001b[0m\u001b[0;34m\u001b[0m\u001b[0m\n\u001b[0m\u001b[1;32m      8\u001b[0m \u001b[0;34m\u001b[0m\u001b[0m\n\u001b[1;32m      9\u001b[0m \u001b[0mZ\u001b[0m\u001b[0;34m\u001b[0m\u001b[0m\n",
      "\u001b[0;32m<string>\u001b[0m in \u001b[0;36minterp_regular\u001b[0;34m(points, values, xi, check_sorted, bounds_error, name)\u001b[0m\n",
      "\u001b[0;32m/Users/dforeman/anaconda/lib/python3.6/site-packages/tensorflow/python/framework/op_def_library.py\u001b[0m in \u001b[0;36mapply_op\u001b[0;34m(self, op_type_name, name, **keywords)\u001b[0m\n\u001b[1;32m    326\u001b[0m     \"\"\"\n\u001b[1;32m    327\u001b[0m     output_structure, is_stateful, op = self._apply_op_helper(\n\u001b[0;32m--> 328\u001b[0;31m         op_type_name, name, **keywords)\n\u001b[0m\u001b[1;32m    329\u001b[0m     \u001b[0;32mif\u001b[0m \u001b[0moutput_structure\u001b[0m\u001b[0;34m:\u001b[0m\u001b[0;34m\u001b[0m\u001b[0m\n\u001b[1;32m    330\u001b[0m       \u001b[0moutputs\u001b[0m \u001b[0;34m=\u001b[0m \u001b[0mop\u001b[0m\u001b[0;34m.\u001b[0m\u001b[0moutputs\u001b[0m\u001b[0;34m\u001b[0m\u001b[0m\n",
      "\u001b[0;32m/Users/dforeman/anaconda/lib/python3.6/site-packages/tensorflow/python/framework/op_def_library.py\u001b[0m in \u001b[0;36m_apply_op_helper\u001b[0;34m(self, op_type_name, name, **keywords)\u001b[0m\n\u001b[1;32m    785\u001b[0m         op = g.create_op(op_type_name, inputs, output_types, name=scope,\n\u001b[1;32m    786\u001b[0m                          \u001b[0minput_types\u001b[0m\u001b[0;34m=\u001b[0m\u001b[0minput_types\u001b[0m\u001b[0;34m,\u001b[0m \u001b[0mattrs\u001b[0m\u001b[0;34m=\u001b[0m\u001b[0mattr_protos\u001b[0m\u001b[0;34m,\u001b[0m\u001b[0;34m\u001b[0m\u001b[0m\n\u001b[0;32m--> 787\u001b[0;31m                          op_def=op_def)\n\u001b[0m\u001b[1;32m    788\u001b[0m       \u001b[0;32mreturn\u001b[0m \u001b[0moutput_structure\u001b[0m\u001b[0;34m,\u001b[0m \u001b[0mop_def\u001b[0m\u001b[0;34m.\u001b[0m\u001b[0mis_stateful\u001b[0m\u001b[0;34m,\u001b[0m \u001b[0mop\u001b[0m\u001b[0;34m\u001b[0m\u001b[0m\n\u001b[1;32m    789\u001b[0m \u001b[0;34m\u001b[0m\u001b[0m\n",
      "\u001b[0;32m/Users/dforeman/anaconda/lib/python3.6/site-packages/tensorflow/python/framework/ops.py\u001b[0m in \u001b[0;36mcreate_op\u001b[0;34m(self, op_type, inputs, dtypes, input_types, name, attrs, op_def, compute_shapes, compute_device)\u001b[0m\n\u001b[1;32m   3290\u001b[0m           op_def=op_def)\n\u001b[1;32m   3291\u001b[0m       self._create_op_helper(ret, compute_shapes=compute_shapes,\n\u001b[0;32m-> 3292\u001b[0;31m                              compute_device=compute_device)\n\u001b[0m\u001b[1;32m   3293\u001b[0m     \u001b[0;32mreturn\u001b[0m \u001b[0mret\u001b[0m\u001b[0;34m\u001b[0m\u001b[0m\n\u001b[1;32m   3294\u001b[0m \u001b[0;34m\u001b[0m\u001b[0m\n",
      "\u001b[0;32m/Users/dforeman/anaconda/lib/python3.6/site-packages/tensorflow/python/framework/ops.py\u001b[0m in \u001b[0;36m_create_op_helper\u001b[0;34m(self, op, compute_shapes, compute_device)\u001b[0m\n\u001b[1;32m   3330\u001b[0m     \u001b[0;31m# compute_shapes argument.\u001b[0m\u001b[0;34m\u001b[0m\u001b[0;34m\u001b[0m\u001b[0m\n\u001b[1;32m   3331\u001b[0m     \u001b[0;32mif\u001b[0m \u001b[0mop\u001b[0m\u001b[0;34m.\u001b[0m\u001b[0m_c_op\u001b[0m \u001b[0;32mor\u001b[0m \u001b[0mcompute_shapes\u001b[0m\u001b[0;34m:\u001b[0m  \u001b[0;31m# pylint: disable=protected-access\u001b[0m\u001b[0;34m\u001b[0m\u001b[0m\n\u001b[0;32m-> 3332\u001b[0;31m       \u001b[0mset_shapes_for_outputs\u001b[0m\u001b[0;34m(\u001b[0m\u001b[0mop\u001b[0m\u001b[0;34m)\u001b[0m\u001b[0;34m\u001b[0m\u001b[0m\n\u001b[0m\u001b[1;32m   3333\u001b[0m     \u001b[0;31m# TODO(b/XXXX): move to Operation.__init__ once _USE_C_API flag is removed.\u001b[0m\u001b[0;34m\u001b[0m\u001b[0;34m\u001b[0m\u001b[0m\n\u001b[1;32m   3334\u001b[0m     \u001b[0mself\u001b[0m\u001b[0;34m.\u001b[0m\u001b[0m_add_op\u001b[0m\u001b[0;34m(\u001b[0m\u001b[0mop\u001b[0m\u001b[0;34m)\u001b[0m\u001b[0;34m\u001b[0m\u001b[0m\n",
      "\u001b[0;32m/Users/dforeman/anaconda/lib/python3.6/site-packages/tensorflow/python/framework/ops.py\u001b[0m in \u001b[0;36mset_shapes_for_outputs\u001b[0;34m(op)\u001b[0m\n\u001b[1;32m   2494\u001b[0m     \u001b[0;32mreturn\u001b[0m \u001b[0m_set_shapes_for_outputs_c_api\u001b[0m\u001b[0;34m(\u001b[0m\u001b[0mop\u001b[0m\u001b[0;34m)\u001b[0m\u001b[0;34m\u001b[0m\u001b[0m\n\u001b[1;32m   2495\u001b[0m   \u001b[0;32melse\u001b[0m\u001b[0;34m:\u001b[0m\u001b[0;34m\u001b[0m\u001b[0m\n\u001b[0;32m-> 2496\u001b[0;31m     \u001b[0;32mreturn\u001b[0m \u001b[0m_set_shapes_for_outputs\u001b[0m\u001b[0;34m(\u001b[0m\u001b[0mop\u001b[0m\u001b[0;34m)\u001b[0m\u001b[0;34m\u001b[0m\u001b[0m\n\u001b[0m\u001b[1;32m   2497\u001b[0m \u001b[0;34m\u001b[0m\u001b[0m\n\u001b[1;32m   2498\u001b[0m \u001b[0;34m\u001b[0m\u001b[0m\n",
      "\u001b[0;32m/Users/dforeman/anaconda/lib/python3.6/site-packages/tensorflow/python/framework/ops.py\u001b[0m in \u001b[0;36m_set_shapes_for_outputs\u001b[0;34m(op)\u001b[0m\n\u001b[1;32m   2467\u001b[0m       \u001b[0mshape_func\u001b[0m \u001b[0;34m=\u001b[0m \u001b[0m_call_cpp_shape_fn_and_require_op\u001b[0m\u001b[0;34m\u001b[0m\u001b[0m\n\u001b[1;32m   2468\u001b[0m \u001b[0;34m\u001b[0m\u001b[0m\n\u001b[0;32m-> 2469\u001b[0;31m   \u001b[0mshapes\u001b[0m \u001b[0;34m=\u001b[0m \u001b[0mshape_func\u001b[0m\u001b[0;34m(\u001b[0m\u001b[0mop\u001b[0m\u001b[0;34m)\u001b[0m\u001b[0;34m\u001b[0m\u001b[0m\n\u001b[0m\u001b[1;32m   2470\u001b[0m   \u001b[0;32mif\u001b[0m \u001b[0mshapes\u001b[0m \u001b[0;32mis\u001b[0m \u001b[0;32mNone\u001b[0m\u001b[0;34m:\u001b[0m\u001b[0;34m\u001b[0m\u001b[0m\n\u001b[1;32m   2471\u001b[0m     raise RuntimeError(\n",
      "\u001b[0;32m/Users/dforeman/anaconda/lib/python3.6/site-packages/tensorflow/python/framework/ops.py\u001b[0m in \u001b[0;36mcall_without_requiring\u001b[0;34m(op)\u001b[0m\n\u001b[1;32m   2392\u001b[0m \u001b[0;34m\u001b[0m\u001b[0m\n\u001b[1;32m   2393\u001b[0m   \u001b[0;32mdef\u001b[0m \u001b[0mcall_without_requiring\u001b[0m\u001b[0;34m(\u001b[0m\u001b[0mop\u001b[0m\u001b[0;34m)\u001b[0m\u001b[0;34m:\u001b[0m\u001b[0;34m\u001b[0m\u001b[0m\n\u001b[0;32m-> 2394\u001b[0;31m     \u001b[0;32mreturn\u001b[0m \u001b[0mcall_cpp_shape_fn\u001b[0m\u001b[0;34m(\u001b[0m\u001b[0mop\u001b[0m\u001b[0;34m,\u001b[0m \u001b[0mrequire_shape_fn\u001b[0m\u001b[0;34m=\u001b[0m\u001b[0;32mFalse\u001b[0m\u001b[0;34m)\u001b[0m\u001b[0;34m\u001b[0m\u001b[0m\n\u001b[0m\u001b[1;32m   2395\u001b[0m \u001b[0;34m\u001b[0m\u001b[0m\n\u001b[1;32m   2396\u001b[0m   \u001b[0m_call_cpp_shape_fn\u001b[0m \u001b[0;34m=\u001b[0m \u001b[0mcall_without_requiring\u001b[0m\u001b[0;34m\u001b[0m\u001b[0m\n",
      "\u001b[0;32m/Users/dforeman/anaconda/lib/python3.6/site-packages/tensorflow/python/framework/common_shapes.py\u001b[0m in \u001b[0;36mcall_cpp_shape_fn\u001b[0;34m(op, require_shape_fn)\u001b[0m\n\u001b[1;32m    625\u001b[0m     res = _call_cpp_shape_fn_impl(op, input_tensors_needed,\n\u001b[1;32m    626\u001b[0m                                   \u001b[0minput_tensors_as_shapes_needed\u001b[0m\u001b[0;34m,\u001b[0m\u001b[0;34m\u001b[0m\u001b[0m\n\u001b[0;32m--> 627\u001b[0;31m                                   require_shape_fn)\n\u001b[0m\u001b[1;32m    628\u001b[0m     \u001b[0;32mif\u001b[0m \u001b[0;32mnot\u001b[0m \u001b[0misinstance\u001b[0m\u001b[0;34m(\u001b[0m\u001b[0mres\u001b[0m\u001b[0;34m,\u001b[0m \u001b[0mdict\u001b[0m\u001b[0;34m)\u001b[0m\u001b[0;34m:\u001b[0m\u001b[0;34m\u001b[0m\u001b[0m\n\u001b[1;32m    629\u001b[0m       \u001b[0;31m# Handles the case where _call_cpp_shape_fn_impl calls unknown_shape(op).\u001b[0m\u001b[0;34m\u001b[0m\u001b[0;34m\u001b[0m\u001b[0m\n",
      "\u001b[0;32m/Users/dforeman/anaconda/lib/python3.6/site-packages/tensorflow/python/framework/common_shapes.py\u001b[0m in \u001b[0;36m_call_cpp_shape_fn_impl\u001b[0;34m(op, input_tensors_needed, input_tensors_as_shapes_needed, require_shape_fn)\u001b[0m\n\u001b[1;32m    689\u001b[0m       \u001b[0mmissing_shape_fn\u001b[0m \u001b[0;34m=\u001b[0m \u001b[0;32mTrue\u001b[0m\u001b[0;34m\u001b[0m\u001b[0m\n\u001b[1;32m    690\u001b[0m     \u001b[0;32melse\u001b[0m\u001b[0;34m:\u001b[0m\u001b[0;34m\u001b[0m\u001b[0m\n\u001b[0;32m--> 691\u001b[0;31m       \u001b[0;32mraise\u001b[0m \u001b[0mValueError\u001b[0m\u001b[0;34m(\u001b[0m\u001b[0merr\u001b[0m\u001b[0;34m.\u001b[0m\u001b[0mmessage\u001b[0m\u001b[0;34m)\u001b[0m\u001b[0;34m\u001b[0m\u001b[0m\n\u001b[0m\u001b[1;32m    692\u001b[0m \u001b[0;34m\u001b[0m\u001b[0m\n\u001b[1;32m    693\u001b[0m   \u001b[0;32mif\u001b[0m \u001b[0mmissing_shape_fn\u001b[0m\u001b[0;34m:\u001b[0m\u001b[0;34m\u001b[0m\u001b[0m\n",
      "\u001b[0;31mValueError\u001b[0m: Dimension 0 in both shapes must be equal, but are 10 and 4. Shapes are [10,5,6,8] and [4,6,1,3]. for 'InterpRegular_4' (op: 'InterpRegular') with input shapes: [10], [5], [6], [8], [4,6,1,3], [5,3,4]."
     ]
    }
   ],
   "source": [
    "shape = [10, 5, 6, 8]\n",
    "\n",
    "points = [np.linspace(1, 2, s) for s in shape]\n",
    "values = np.random.randn(*([len(shape), 6, 1, 3])) # np.prod([(np.sin(x), np.cos(x)) for x in np.meshgrid(*points, indexing=\"ij\")], axis=1)\n",
    "xi = np.sort(np.random.uniform(1, 2, (5, 3, len(shape))), axis=0)\n",
    "print(values.shape, xi.shape)\n",
    "Z, dZ = regular_op.interp_regular(points, values, xi)\n",
    "\n",
    "Z"
   ]
  },
  {
   "cell_type": "code",
   "execution_count": 6,
   "metadata": {},
   "outputs": [
    {
     "data": {
      "text/plain": [
       "(5, 3, 4)"
      ]
     },
     "execution_count": 6,
     "metadata": {},
     "output_type": "execute_result"
    }
   ],
   "source": [
    "xi.shape"
   ]
  },
  {
   "cell_type": "code",
   "execution_count": 7,
   "metadata": {},
   "outputs": [
    {
     "data": {
      "text/plain": [
       "(5, 3)"
      ]
     },
     "execution_count": 7,
     "metadata": {},
     "output_type": "execute_result"
    }
   ],
   "source": [
    "session.run(dZ).shape"
   ]
  },
  {
   "cell_type": "code",
   "execution_count": 21,
   "metadata": {},
   "outputs": [
    {
     "name": "stdout",
     "output_type": "stream",
     "text": [
      "10000 loops, best of 3: 80.8 µs per loop\n"
     ]
    }
   ],
   "source": [
    "session.run(Z)\n",
    "%timeit session.run(Z)"
   ]
  },
  {
   "cell_type": "code",
   "execution_count": 22,
   "metadata": {},
   "outputs": [
    {
     "name": "stdout",
     "output_type": "stream",
     "text": [
      "The slowest run took 5.16 times longer than the fastest. This could mean that an intermediate result is being cached.\n",
      "1000 loops, best of 3: 434 µs per loop\n"
     ]
    }
   ],
   "source": [
    "interp = RegularGridInterpolator(points, values)\n",
    "%timeit interp(xi)"
   ]
  },
  {
   "cell_type": "code",
   "execution_count": 6,
   "metadata": {},
   "outputs": [
    {
     "data": {
      "text/plain": [
       "array([[-1.11022302e-16,  0.00000000e+00,  0.00000000e+00,\n",
       "         0.00000000e+00,  0.00000000e+00,  0.00000000e+00,\n",
       "         0.00000000e+00,  1.11022302e-16,  0.00000000e+00,\n",
       "         0.00000000e+00,  1.11022302e-16, -1.11022302e-16,\n",
       "         1.11022302e-16],\n",
       "       [ 0.00000000e+00, -1.11022302e-16, -1.11022302e-16,\n",
       "        -1.11022302e-16,  0.00000000e+00,  0.00000000e+00,\n",
       "        -1.11022302e-16,  0.00000000e+00,  0.00000000e+00,\n",
       "        -1.11022302e-16,  1.11022302e-16,  1.11022302e-16,\n",
       "         0.00000000e+00],\n",
       "       [-1.11022302e-16,  0.00000000e+00,  1.11022302e-16,\n",
       "         0.00000000e+00,  0.00000000e+00,  1.11022302e-16,\n",
       "         0.00000000e+00, -2.22044605e-16,  1.11022302e-16,\n",
       "         1.11022302e-16,  0.00000000e+00, -1.11022302e-16,\n",
       "        -1.11022302e-16],\n",
       "       [-2.22044605e-16,  0.00000000e+00, -1.11022302e-16,\n",
       "         0.00000000e+00,  2.22044605e-16,  0.00000000e+00,\n",
       "        -1.11022302e-16, -1.11022302e-16,  2.22044605e-16,\n",
       "         0.00000000e+00,  0.00000000e+00,  1.11022302e-16,\n",
       "        -2.22044605e-16],\n",
       "       [ 2.22044605e-16,  1.11022302e-16, -1.11022302e-16,\n",
       "         1.11022302e-16, -1.11022302e-16,  0.00000000e+00,\n",
       "         0.00000000e+00,  0.00000000e+00,  0.00000000e+00,\n",
       "         0.00000000e+00,  0.00000000e+00, -1.11022302e-16,\n",
       "         0.00000000e+00],\n",
       "       [ 0.00000000e+00,  0.00000000e+00,  0.00000000e+00,\n",
       "         1.11022302e-16,  0.00000000e+00,  0.00000000e+00,\n",
       "         0.00000000e+00, -1.11022302e-16,  1.11022302e-16,\n",
       "         1.11022302e-16,  0.00000000e+00, -1.11022302e-16,\n",
       "         0.00000000e+00],\n",
       "       [ 0.00000000e+00,  0.00000000e+00,  2.22044605e-16,\n",
       "         0.00000000e+00,  0.00000000e+00,  0.00000000e+00,\n",
       "         0.00000000e+00,  0.00000000e+00,  0.00000000e+00,\n",
       "         2.22044605e-16,  2.22044605e-16, -2.22044605e-16,\n",
       "        -1.11022302e-16],\n",
       "       [-1.11022302e-16,  0.00000000e+00, -1.11022302e-16,\n",
       "        -1.11022302e-16,  0.00000000e+00,  0.00000000e+00,\n",
       "         0.00000000e+00,  1.11022302e-16,  0.00000000e+00,\n",
       "        -1.11022302e-16,  0.00000000e+00,  0.00000000e+00,\n",
       "         0.00000000e+00],\n",
       "       [-1.11022302e-16,  2.22044605e-16,  2.22044605e-16,\n",
       "         0.00000000e+00, -1.11022302e-16,  2.22044605e-16,\n",
       "         1.11022302e-16,  0.00000000e+00,  1.11022302e-16,\n",
       "         1.11022302e-16,  0.00000000e+00, -1.11022302e-16,\n",
       "         1.11022302e-16],\n",
       "       [ 0.00000000e+00,  2.22044605e-16,  0.00000000e+00,\n",
       "        -1.11022302e-16,  0.00000000e+00, -1.11022302e-16,\n",
       "         0.00000000e+00, -2.22044605e-16,  0.00000000e+00,\n",
       "         1.11022302e-16,  1.11022302e-16,  0.00000000e+00,\n",
       "         0.00000000e+00],\n",
       "       [ 2.22044605e-16,  0.00000000e+00,  1.11022302e-16,\n",
       "         2.22044605e-16,  1.11022302e-16,  0.00000000e+00,\n",
       "         1.11022302e-16,  1.11022302e-16,  0.00000000e+00,\n",
       "         0.00000000e+00, -2.22044605e-16,  1.11022302e-16,\n",
       "         0.00000000e+00],\n",
       "       [ 2.22044605e-16, -1.11022302e-16, -1.11022302e-16,\n",
       "         1.11022302e-16,  1.11022302e-16,  0.00000000e+00,\n",
       "         0.00000000e+00, -2.22044605e-16,  2.22044605e-16,\n",
       "         0.00000000e+00, -2.22044605e-16,  0.00000000e+00,\n",
       "         0.00000000e+00],\n",
       "       [ 0.00000000e+00,  0.00000000e+00,  0.00000000e+00,\n",
       "        -1.11022302e-16,  1.11022302e-16, -1.11022302e-16,\n",
       "         1.11022302e-16, -1.11022302e-16,  0.00000000e+00,\n",
       "         0.00000000e+00, -1.11022302e-16,  1.11022302e-16,\n",
       "        -1.11022302e-16],\n",
       "       [-2.22044605e-16,  0.00000000e+00,  1.11022302e-16,\n",
       "         0.00000000e+00,  2.22044605e-16,  0.00000000e+00,\n",
       "        -1.11022302e-16,  0.00000000e+00,  1.11022302e-16,\n",
       "         0.00000000e+00,  3.33066907e-16,  0.00000000e+00,\n",
       "        -1.11022302e-16],\n",
       "       [ 0.00000000e+00,  0.00000000e+00, -1.11022302e-16,\n",
       "         2.22044605e-16,  2.22044605e-16,  3.33066907e-16,\n",
       "        -1.11022302e-16, -1.11022302e-16,  2.22044605e-16,\n",
       "         1.11022302e-16,  0.00000000e+00,  1.11022302e-16,\n",
       "         0.00000000e+00],\n",
       "       [ 2.22044605e-16, -1.11022302e-16,  2.22044605e-16,\n",
       "         0.00000000e+00, -1.11022302e-16, -1.11022302e-16,\n",
       "         1.11022302e-16, -1.11022302e-16,  0.00000000e+00,\n",
       "         1.11022302e-16,  0.00000000e+00, -1.11022302e-16,\n",
       "         1.11022302e-16],\n",
       "       [ 0.00000000e+00,  0.00000000e+00,  0.00000000e+00,\n",
       "         1.11022302e-16, -3.33066907e-16,  1.11022302e-16,\n",
       "         2.22044605e-16, -1.11022302e-16,  1.11022302e-16,\n",
       "        -1.11022302e-16,  0.00000000e+00,  1.11022302e-16,\n",
       "         1.11022302e-16],\n",
       "       [ 1.11022302e-16, -2.22044605e-16,  1.11022302e-16,\n",
       "        -2.22044605e-16,  0.00000000e+00,  0.00000000e+00,\n",
       "         0.00000000e+00, -1.11022302e-16,  0.00000000e+00,\n",
       "        -2.22044605e-16,  0.00000000e+00,  0.00000000e+00,\n",
       "         0.00000000e+00],\n",
       "       [-1.11022302e-16,  1.11022302e-16, -1.11022302e-16,\n",
       "         0.00000000e+00, -1.11022302e-16,  0.00000000e+00,\n",
       "         0.00000000e+00,  1.11022302e-16, -1.11022302e-16,\n",
       "         1.11022302e-16,  1.11022302e-16,  0.00000000e+00,\n",
       "         0.00000000e+00],\n",
       "       [-1.11022302e-16,  1.11022302e-16, -1.11022302e-16,\n",
       "         1.11022302e-16,  1.11022302e-16,  2.22044605e-16,\n",
       "         0.00000000e+00, -1.11022302e-16,  1.11022302e-16,\n",
       "        -2.22044605e-16,  0.00000000e+00,  0.00000000e+00,\n",
       "         0.00000000e+00],\n",
       "       [ 1.11022302e-16,  0.00000000e+00,  1.11022302e-16,\n",
       "         0.00000000e+00,  0.00000000e+00,  0.00000000e+00,\n",
       "         0.00000000e+00, -1.11022302e-16,  3.33066907e-16,\n",
       "         2.22044605e-16,  0.00000000e+00,  1.11022302e-16,\n",
       "         4.44089210e-16],\n",
       "       [ 1.11022302e-16,  0.00000000e+00, -1.11022302e-16,\n",
       "         1.11022302e-16,  0.00000000e+00,  0.00000000e+00,\n",
       "        -1.11022302e-16,  0.00000000e+00, -1.11022302e-16,\n",
       "         0.00000000e+00, -1.11022302e-16,  1.11022302e-16,\n",
       "        -1.11022302e-16],\n",
       "       [-1.11022302e-16,  0.00000000e+00,  0.00000000e+00,\n",
       "         1.11022302e-16,  1.11022302e-16,  2.22044605e-16,\n",
       "         0.00000000e+00,  1.11022302e-16,  2.22044605e-16,\n",
       "         0.00000000e+00, -1.11022302e-16, -2.22044605e-16,\n",
       "        -1.11022302e-16],\n",
       "       [-1.11022302e-16, -1.11022302e-16,  0.00000000e+00,\n",
       "        -2.22044605e-16,  0.00000000e+00,  1.11022302e-16,\n",
       "         1.11022302e-16,  0.00000000e+00, -1.11022302e-16,\n",
       "         0.00000000e+00,  0.00000000e+00, -2.22044605e-16,\n",
       "        -2.22044605e-16],\n",
       "       [-2.22044605e-16, -2.22044605e-16,  0.00000000e+00,\n",
       "         2.22044605e-16,  0.00000000e+00,  0.00000000e+00,\n",
       "         0.00000000e+00, -1.11022302e-16,  0.00000000e+00,\n",
       "         2.22044605e-16,  2.22044605e-16,  1.11022302e-16,\n",
       "         0.00000000e+00],\n",
       "       [ 2.22044605e-16,  0.00000000e+00, -1.11022302e-16,\n",
       "         0.00000000e+00, -2.22044605e-16,  1.11022302e-16,\n",
       "        -2.22044605e-16,  0.00000000e+00,  2.22044605e-16,\n",
       "         0.00000000e+00,  1.11022302e-16,  0.00000000e+00,\n",
       "         0.00000000e+00],\n",
       "       [-2.22044605e-16, -1.11022302e-16, -1.11022302e-16,\n",
       "         0.00000000e+00,  0.00000000e+00, -2.22044605e-16,\n",
       "         0.00000000e+00, -1.11022302e-16,  1.11022302e-16,\n",
       "         0.00000000e+00,  1.11022302e-16,  1.11022302e-16,\n",
       "         0.00000000e+00],\n",
       "       [ 0.00000000e+00,  2.22044605e-16,  0.00000000e+00,\n",
       "        -2.22044605e-16,  0.00000000e+00,  0.00000000e+00,\n",
       "        -1.11022302e-16,  0.00000000e+00,  1.11022302e-16,\n",
       "        -2.22044605e-16,  0.00000000e+00,  3.33066907e-16,\n",
       "         0.00000000e+00],\n",
       "       [ 1.11022302e-16,  0.00000000e+00, -1.11022302e-16,\n",
       "         0.00000000e+00,  1.11022302e-16,  0.00000000e+00,\n",
       "         0.00000000e+00, -1.11022302e-16,  0.00000000e+00,\n",
       "         0.00000000e+00,  2.22044605e-16,  0.00000000e+00,\n",
       "         1.11022302e-16],\n",
       "       [-2.22044605e-16, -2.22044605e-16, -1.11022302e-16,\n",
       "        -1.11022302e-16,  1.11022302e-16,  1.11022302e-16,\n",
       "         2.22044605e-16,  0.00000000e+00, -2.22044605e-16,\n",
       "         0.00000000e+00,  0.00000000e+00, -1.11022302e-16,\n",
       "         3.33066907e-16],\n",
       "       [-1.11022302e-16, -1.11022302e-16, -1.11022302e-16,\n",
       "         1.11022302e-16, -1.11022302e-16,  0.00000000e+00,\n",
       "         2.22044605e-16,  0.00000000e+00,  0.00000000e+00,\n",
       "        -1.11022302e-16,  0.00000000e+00,  1.11022302e-16,\n",
       "        -1.11022302e-16],\n",
       "       [ 1.11022302e-16, -1.11022302e-16, -2.22044605e-16,\n",
       "        -2.22044605e-16, -2.22044605e-16,  1.11022302e-16,\n",
       "        -1.11022302e-16,  3.33066907e-16,  1.11022302e-16,\n",
       "         0.00000000e+00,  0.00000000e+00,  0.00000000e+00,\n",
       "         0.00000000e+00],\n",
       "       [ 1.11022302e-16, -2.22044605e-16,  1.11022302e-16,\n",
       "         0.00000000e+00,  2.22044605e-16,  0.00000000e+00,\n",
       "         0.00000000e+00,  0.00000000e+00,  0.00000000e+00,\n",
       "        -2.22044605e-16,  0.00000000e+00,  0.00000000e+00,\n",
       "         2.22044605e-16],\n",
       "       [-2.22044605e-16,  4.44089210e-16,  1.11022302e-16,\n",
       "        -1.11022302e-16,  0.00000000e+00,  3.33066907e-16,\n",
       "         0.00000000e+00,  0.00000000e+00,  1.11022302e-16,\n",
       "         1.11022302e-16, -1.11022302e-16,  2.22044605e-16,\n",
       "        -2.22044605e-16],\n",
       "       [ 1.11022302e-16,  0.00000000e+00,  0.00000000e+00,\n",
       "         2.22044605e-16, -1.11022302e-16,  0.00000000e+00,\n",
       "         1.11022302e-16, -2.22044605e-16,  0.00000000e+00,\n",
       "         0.00000000e+00, -1.11022302e-16, -1.11022302e-16,\n",
       "         0.00000000e+00],\n",
       "       [-1.11022302e-16, -1.11022302e-16, -1.11022302e-16,\n",
       "        -1.11022302e-16,  0.00000000e+00,  0.00000000e+00,\n",
       "         1.11022302e-16, -1.11022302e-16,  0.00000000e+00,\n",
       "         0.00000000e+00,  1.11022302e-16,  1.11022302e-16,\n",
       "         0.00000000e+00],\n",
       "       [-1.11022302e-16, -3.33066907e-16, -1.11022302e-16,\n",
       "        -2.22044605e-16, -1.11022302e-16, -1.11022302e-16,\n",
       "        -1.11022302e-16, -1.11022302e-16,  1.11022302e-16,\n",
       "         1.11022302e-16,  0.00000000e+00, -2.22044605e-16,\n",
       "         0.00000000e+00],\n",
       "       [ 0.00000000e+00,  2.22044605e-16, -1.11022302e-16,\n",
       "         0.00000000e+00,  2.22044605e-16,  0.00000000e+00,\n",
       "        -1.11022302e-16,  0.00000000e+00,  0.00000000e+00,\n",
       "         0.00000000e+00,  0.00000000e+00,  0.00000000e+00,\n",
       "        -1.11022302e-16],\n",
       "       [-1.11022302e-16,  0.00000000e+00,  1.11022302e-16,\n",
       "         0.00000000e+00, -1.11022302e-16,  0.00000000e+00,\n",
       "         0.00000000e+00,  0.00000000e+00,  0.00000000e+00,\n",
       "         0.00000000e+00,  2.22044605e-16, -1.11022302e-16,\n",
       "         1.11022302e-16],\n",
       "       [ 0.00000000e+00,  0.00000000e+00, -1.11022302e-16,\n",
       "         1.11022302e-16,  1.11022302e-16,  0.00000000e+00,\n",
       "         1.11022302e-16, -2.22044605e-16,  0.00000000e+00,\n",
       "         0.00000000e+00, -2.22044605e-16,  2.22044605e-16,\n",
       "        -2.22044605e-16],\n",
       "       [ 0.00000000e+00, -1.11022302e-16, -1.11022302e-16,\n",
       "         1.11022302e-16, -2.22044605e-16,  0.00000000e+00,\n",
       "        -1.11022302e-16,  0.00000000e+00,  1.11022302e-16,\n",
       "         0.00000000e+00, -1.11022302e-16,  1.11022302e-16,\n",
       "         0.00000000e+00],\n",
       "       [-1.11022302e-16, -2.22044605e-16,  0.00000000e+00,\n",
       "         1.11022302e-16,  1.11022302e-16,  0.00000000e+00,\n",
       "         0.00000000e+00,  1.11022302e-16,  0.00000000e+00,\n",
       "        -3.33066907e-16, -1.11022302e-16,  0.00000000e+00,\n",
       "        -2.22044605e-16],\n",
       "       [ 1.11022302e-16, -1.11022302e-16,  1.11022302e-16,\n",
       "         0.00000000e+00,  1.11022302e-16,  0.00000000e+00,\n",
       "         1.11022302e-16, -1.11022302e-16, -1.11022302e-16,\n",
       "         0.00000000e+00,  0.00000000e+00, -1.11022302e-16,\n",
       "         0.00000000e+00],\n",
       "       [-1.11022302e-16,  0.00000000e+00,  1.11022302e-16,\n",
       "         2.22044605e-16,  0.00000000e+00,  0.00000000e+00,\n",
       "         0.00000000e+00,  1.11022302e-16, -2.22044605e-16,\n",
       "        -1.11022302e-16, -1.11022302e-16,  0.00000000e+00,\n",
       "         1.11022302e-16],\n",
       "       [ 1.11022302e-16,  0.00000000e+00,  0.00000000e+00,\n",
       "         0.00000000e+00,  0.00000000e+00,  0.00000000e+00,\n",
       "         0.00000000e+00, -1.11022302e-16,  1.11022302e-16,\n",
       "         1.11022302e-16,  3.33066907e-16, -1.11022302e-16,\n",
       "        -3.33066907e-16],\n",
       "       [ 0.00000000e+00,  0.00000000e+00, -1.11022302e-16,\n",
       "        -2.22044605e-16,  1.11022302e-16,  0.00000000e+00,\n",
       "         0.00000000e+00, -2.22044605e-16, -1.11022302e-16,\n",
       "         0.00000000e+00,  0.00000000e+00,  1.11022302e-16,\n",
       "         2.22044605e-16],\n",
       "       [ 0.00000000e+00, -3.33066907e-16, -1.11022302e-16,\n",
       "         1.11022302e-16, -1.11022302e-16,  1.11022302e-16,\n",
       "         1.11022302e-16,  0.00000000e+00,  0.00000000e+00,\n",
       "         2.22044605e-16,  0.00000000e+00,  0.00000000e+00,\n",
       "         0.00000000e+00],\n",
       "       [ 0.00000000e+00,  0.00000000e+00,  0.00000000e+00,\n",
       "        -1.11022302e-16, -2.22044605e-16,  1.11022302e-16,\n",
       "         0.00000000e+00,  0.00000000e+00,  0.00000000e+00,\n",
       "        -1.11022302e-16,  0.00000000e+00,  0.00000000e+00,\n",
       "        -1.11022302e-16],\n",
       "       [-2.22044605e-16,  0.00000000e+00,  0.00000000e+00,\n",
       "        -1.11022302e-16,  0.00000000e+00,  0.00000000e+00,\n",
       "        -2.22044605e-16, -2.22044605e-16,  0.00000000e+00,\n",
       "         0.00000000e+00,  2.22044605e-16,  0.00000000e+00,\n",
       "         0.00000000e+00],\n",
       "       [-1.11022302e-16,  1.11022302e-16, -1.11022302e-16,\n",
       "         0.00000000e+00, -1.11022302e-16,  1.11022302e-16,\n",
       "        -1.11022302e-16, -1.11022302e-16, -2.22044605e-16,\n",
       "         0.00000000e+00,  0.00000000e+00,  0.00000000e+00,\n",
       "        -1.11022302e-16]])"
      ]
     },
     "execution_count": 6,
     "metadata": {},
     "output_type": "execute_result"
    }
   ],
   "source": [
    "interp = RegularGridInterpolator(points, values)\n",
    "\n",
    "interp(xi) - session.run(Z)"
   ]
  },
  {
   "cell_type": "code",
   "execution_count": 7,
   "metadata": {},
   "outputs": [
    {
     "ename": "ValueError",
     "evalue": "x and y can be no greater than 2-D, but have shapes (50, 13, 4) and (50, 13)",
     "output_type": "error",
     "traceback": [
      "\u001b[0;31m---------------------------------------------------------------------------\u001b[0m",
      "\u001b[0;31mValueError\u001b[0m                                Traceback (most recent call last)",
      "\u001b[0;32m<ipython-input-7-78edb0eb3885>\u001b[0m in \u001b[0;36m<module>\u001b[0;34m()\u001b[0m\n\u001b[0;32m----> 1\u001b[0;31m \u001b[0mplt\u001b[0m\u001b[0;34m.\u001b[0m\u001b[0mplot\u001b[0m\u001b[0;34m(\u001b[0m\u001b[0mxi\u001b[0m\u001b[0;34m,\u001b[0m \u001b[0minterp\u001b[0m\u001b[0;34m(\u001b[0m\u001b[0mxi\u001b[0m\u001b[0;34m)\u001b[0m\u001b[0;34m)\u001b[0m\u001b[0;34m\u001b[0m\u001b[0m\n\u001b[0m\u001b[1;32m      2\u001b[0m \u001b[0mplt\u001b[0m\u001b[0;34m.\u001b[0m\u001b[0mplot\u001b[0m\u001b[0;34m(\u001b[0m\u001b[0mpoints\u001b[0m\u001b[0;34m[\u001b[0m\u001b[0;36m0\u001b[0m\u001b[0;34m]\u001b[0m\u001b[0;34m,\u001b[0m \u001b[0mvalues\u001b[0m\u001b[0;34m)\u001b[0m\u001b[0;34m\u001b[0m\u001b[0m\n",
      "\u001b[0;32m/Users/dforeman/anaconda/lib/python3.6/site-packages/matplotlib/pyplot.py\u001b[0m in \u001b[0;36mplot\u001b[0;34m(*args, **kwargs)\u001b[0m\n\u001b[1;32m   3253\u001b[0m                       mplDeprecation)\n\u001b[1;32m   3254\u001b[0m     \u001b[0;32mtry\u001b[0m\u001b[0;34m:\u001b[0m\u001b[0;34m\u001b[0m\u001b[0m\n\u001b[0;32m-> 3255\u001b[0;31m         \u001b[0mret\u001b[0m \u001b[0;34m=\u001b[0m \u001b[0max\u001b[0m\u001b[0;34m.\u001b[0m\u001b[0mplot\u001b[0m\u001b[0;34m(\u001b[0m\u001b[0;34m*\u001b[0m\u001b[0margs\u001b[0m\u001b[0;34m,\u001b[0m \u001b[0;34m**\u001b[0m\u001b[0mkwargs\u001b[0m\u001b[0;34m)\u001b[0m\u001b[0;34m\u001b[0m\u001b[0m\n\u001b[0m\u001b[1;32m   3256\u001b[0m     \u001b[0;32mfinally\u001b[0m\u001b[0;34m:\u001b[0m\u001b[0;34m\u001b[0m\u001b[0m\n\u001b[1;32m   3257\u001b[0m         \u001b[0max\u001b[0m\u001b[0;34m.\u001b[0m\u001b[0m_hold\u001b[0m \u001b[0;34m=\u001b[0m \u001b[0mwashold\u001b[0m\u001b[0;34m\u001b[0m\u001b[0m\n",
      "\u001b[0;32m/Users/dforeman/anaconda/lib/python3.6/site-packages/matplotlib/__init__.py\u001b[0m in \u001b[0;36minner\u001b[0;34m(ax, *args, **kwargs)\u001b[0m\n\u001b[1;32m   1843\u001b[0m                         \u001b[0;34m\"the Matplotlib list!)\"\u001b[0m \u001b[0;34m%\u001b[0m \u001b[0;34m(\u001b[0m\u001b[0mlabel_namer\u001b[0m\u001b[0;34m,\u001b[0m \u001b[0mfunc\u001b[0m\u001b[0;34m.\u001b[0m\u001b[0m__name__\u001b[0m\u001b[0;34m)\u001b[0m\u001b[0;34m,\u001b[0m\u001b[0;34m\u001b[0m\u001b[0m\n\u001b[1;32m   1844\u001b[0m                         RuntimeWarning, stacklevel=2)\n\u001b[0;32m-> 1845\u001b[0;31m             \u001b[0;32mreturn\u001b[0m \u001b[0mfunc\u001b[0m\u001b[0;34m(\u001b[0m\u001b[0max\u001b[0m\u001b[0;34m,\u001b[0m \u001b[0;34m*\u001b[0m\u001b[0margs\u001b[0m\u001b[0;34m,\u001b[0m \u001b[0;34m**\u001b[0m\u001b[0mkwargs\u001b[0m\u001b[0;34m)\u001b[0m\u001b[0;34m\u001b[0m\u001b[0m\n\u001b[0m\u001b[1;32m   1846\u001b[0m \u001b[0;34m\u001b[0m\u001b[0m\n\u001b[1;32m   1847\u001b[0m         inner.__doc__ = _add_data_doc(inner.__doc__,\n",
      "\u001b[0;32m/Users/dforeman/anaconda/lib/python3.6/site-packages/matplotlib/axes/_axes.py\u001b[0m in \u001b[0;36mplot\u001b[0;34m(self, *args, **kwargs)\u001b[0m\n\u001b[1;32m   1523\u001b[0m         \u001b[0mkwargs\u001b[0m \u001b[0;34m=\u001b[0m \u001b[0mcbook\u001b[0m\u001b[0;34m.\u001b[0m\u001b[0mnormalize_kwargs\u001b[0m\u001b[0;34m(\u001b[0m\u001b[0mkwargs\u001b[0m\u001b[0;34m,\u001b[0m \u001b[0m_alias_map\u001b[0m\u001b[0;34m)\u001b[0m\u001b[0;34m\u001b[0m\u001b[0m\n\u001b[1;32m   1524\u001b[0m \u001b[0;34m\u001b[0m\u001b[0m\n\u001b[0;32m-> 1525\u001b[0;31m         \u001b[0;32mfor\u001b[0m \u001b[0mline\u001b[0m \u001b[0;32min\u001b[0m \u001b[0mself\u001b[0m\u001b[0;34m.\u001b[0m\u001b[0m_get_lines\u001b[0m\u001b[0;34m(\u001b[0m\u001b[0;34m*\u001b[0m\u001b[0margs\u001b[0m\u001b[0;34m,\u001b[0m \u001b[0;34m**\u001b[0m\u001b[0mkwargs\u001b[0m\u001b[0;34m)\u001b[0m\u001b[0;34m:\u001b[0m\u001b[0;34m\u001b[0m\u001b[0m\n\u001b[0m\u001b[1;32m   1526\u001b[0m             \u001b[0mself\u001b[0m\u001b[0;34m.\u001b[0m\u001b[0madd_line\u001b[0m\u001b[0;34m(\u001b[0m\u001b[0mline\u001b[0m\u001b[0;34m)\u001b[0m\u001b[0;34m\u001b[0m\u001b[0m\n\u001b[1;32m   1527\u001b[0m             \u001b[0mlines\u001b[0m\u001b[0;34m.\u001b[0m\u001b[0mappend\u001b[0m\u001b[0;34m(\u001b[0m\u001b[0mline\u001b[0m\u001b[0;34m)\u001b[0m\u001b[0;34m\u001b[0m\u001b[0m\n",
      "\u001b[0;32m/Users/dforeman/anaconda/lib/python3.6/site-packages/matplotlib/axes/_base.py\u001b[0m in \u001b[0;36m_grab_next_args\u001b[0;34m(self, *args, **kwargs)\u001b[0m\n\u001b[1;32m    404\u001b[0m                 \u001b[0mthis\u001b[0m \u001b[0;34m+=\u001b[0m \u001b[0margs\u001b[0m\u001b[0;34m[\u001b[0m\u001b[0;36m0\u001b[0m\u001b[0;34m]\u001b[0m\u001b[0;34m,\u001b[0m\u001b[0;34m\u001b[0m\u001b[0m\n\u001b[1;32m    405\u001b[0m                 \u001b[0margs\u001b[0m \u001b[0;34m=\u001b[0m \u001b[0margs\u001b[0m\u001b[0;34m[\u001b[0m\u001b[0;36m1\u001b[0m\u001b[0;34m:\u001b[0m\u001b[0;34m]\u001b[0m\u001b[0;34m\u001b[0m\u001b[0m\n\u001b[0;32m--> 406\u001b[0;31m             \u001b[0;32mfor\u001b[0m \u001b[0mseg\u001b[0m \u001b[0;32min\u001b[0m \u001b[0mself\u001b[0m\u001b[0;34m.\u001b[0m\u001b[0m_plot_args\u001b[0m\u001b[0;34m(\u001b[0m\u001b[0mthis\u001b[0m\u001b[0;34m,\u001b[0m \u001b[0mkwargs\u001b[0m\u001b[0;34m)\u001b[0m\u001b[0;34m:\u001b[0m\u001b[0;34m\u001b[0m\u001b[0m\n\u001b[0m\u001b[1;32m    407\u001b[0m                 \u001b[0;32myield\u001b[0m \u001b[0mseg\u001b[0m\u001b[0;34m\u001b[0m\u001b[0m\n\u001b[1;32m    408\u001b[0m \u001b[0;34m\u001b[0m\u001b[0m\n",
      "\u001b[0;32m/Users/dforeman/anaconda/lib/python3.6/site-packages/matplotlib/axes/_base.py\u001b[0m in \u001b[0;36m_plot_args\u001b[0;34m(self, tup, kwargs)\u001b[0m\n\u001b[1;32m    381\u001b[0m             \u001b[0mx\u001b[0m\u001b[0;34m,\u001b[0m \u001b[0my\u001b[0m \u001b[0;34m=\u001b[0m \u001b[0mindex_of\u001b[0m\u001b[0;34m(\u001b[0m\u001b[0mtup\u001b[0m\u001b[0;34m[\u001b[0m\u001b[0;34m-\u001b[0m\u001b[0;36m1\u001b[0m\u001b[0;34m]\u001b[0m\u001b[0;34m)\u001b[0m\u001b[0;34m\u001b[0m\u001b[0m\n\u001b[1;32m    382\u001b[0m \u001b[0;34m\u001b[0m\u001b[0m\n\u001b[0;32m--> 383\u001b[0;31m         \u001b[0mx\u001b[0m\u001b[0;34m,\u001b[0m \u001b[0my\u001b[0m \u001b[0;34m=\u001b[0m \u001b[0mself\u001b[0m\u001b[0;34m.\u001b[0m\u001b[0m_xy_from_xy\u001b[0m\u001b[0;34m(\u001b[0m\u001b[0mx\u001b[0m\u001b[0;34m,\u001b[0m \u001b[0my\u001b[0m\u001b[0;34m)\u001b[0m\u001b[0;34m\u001b[0m\u001b[0m\n\u001b[0m\u001b[1;32m    384\u001b[0m \u001b[0;34m\u001b[0m\u001b[0m\n\u001b[1;32m    385\u001b[0m         \u001b[0;32mif\u001b[0m \u001b[0mself\u001b[0m\u001b[0;34m.\u001b[0m\u001b[0mcommand\u001b[0m \u001b[0;34m==\u001b[0m \u001b[0;34m'plot'\u001b[0m\u001b[0;34m:\u001b[0m\u001b[0;34m\u001b[0m\u001b[0m\n",
      "\u001b[0;32m/Users/dforeman/anaconda/lib/python3.6/site-packages/matplotlib/axes/_base.py\u001b[0m in \u001b[0;36m_xy_from_xy\u001b[0;34m(self, x, y)\u001b[0m\n\u001b[1;32m    243\u001b[0m         \u001b[0;32mif\u001b[0m \u001b[0mx\u001b[0m\u001b[0;34m.\u001b[0m\u001b[0mndim\u001b[0m \u001b[0;34m>\u001b[0m \u001b[0;36m2\u001b[0m \u001b[0;32mor\u001b[0m \u001b[0my\u001b[0m\u001b[0;34m.\u001b[0m\u001b[0mndim\u001b[0m \u001b[0;34m>\u001b[0m \u001b[0;36m2\u001b[0m\u001b[0;34m:\u001b[0m\u001b[0;34m\u001b[0m\u001b[0m\n\u001b[1;32m    244\u001b[0m             raise ValueError(\"x and y can be no greater than 2-D, but have \"\n\u001b[0;32m--> 245\u001b[0;31m                              \"shapes {} and {}\".format(x.shape, y.shape))\n\u001b[0m\u001b[1;32m    246\u001b[0m \u001b[0;34m\u001b[0m\u001b[0m\n\u001b[1;32m    247\u001b[0m         \u001b[0;32mif\u001b[0m \u001b[0mx\u001b[0m\u001b[0;34m.\u001b[0m\u001b[0mndim\u001b[0m \u001b[0;34m==\u001b[0m \u001b[0;36m1\u001b[0m\u001b[0;34m:\u001b[0m\u001b[0;34m\u001b[0m\u001b[0m\n",
      "\u001b[0;31mValueError\u001b[0m: x and y can be no greater than 2-D, but have shapes (50, 13, 4) and (50, 13)"
     ]
    },
    {
     "data": {
      "image/png": "[encoded data removed]",
      "text/plain": [
       "<Figure size 432x288 with 1 Axes>"
      ]
     },
     "metadata": {},
     "output_type": "display_data"
    }
   ],
   "source": [
    "plt.plot(xi, interp(xi))\n",
    "plt.plot(points[0], values)"
   ]
  },
  {
   "cell_type": "code",
   "execution_count": null,
   "metadata": {},
   "outputs": [],
   "source": []
  },
  {
   "cell_type": "code",
   "execution_count": 5,
   "metadata": {},
   "outputs": [],
   "source": [
    "# dim = 9\n",
    "# for ind in range(2**dim):\n",
    "#     for k in range(dim):\n",
    "#         print((ind >> k) & 1, end=\" \")\n",
    "#     print()"
   ]
  },
  {
   "cell_type": "code",
   "execution_count": 5,
   "metadata": {},
   "outputs": [],
   "source": [
    "import itertools"
   ]
  },
  {
   "cell_type": "code",
   "execution_count": 6,
   "metadata": {},
   "outputs": [
    {
     "data": {
      "text/plain": [
       "[(array([ 5, 10]), array([0, 3]), array([2, 8])),\n",
       " (array([ 5, 10]), array([0, 3]), array([3, 9])),\n",
       " (array([ 5, 10]), array([1, 4]), array([2, 8])),\n",
       " (array([ 5, 10]), array([1, 4]), array([3, 9])),\n",
       " (array([ 6, 11]), array([0, 3]), array([2, 8])),\n",
       " (array([ 6, 11]), array([0, 3]), array([3, 9])),\n",
       " (array([ 6, 11]), array([1, 4]), array([2, 8])),\n",
       " (array([ 6, 11]), array([1, 4]), array([3, 9]))]"
      ]
     },
     "execution_count": 6,
     "metadata": {},
     "output_type": "execute_result"
    }
   ],
   "source": [
    "indices = [np.array([5, 10]), np.array([0, 3]), np.array([2, 8])]\n",
    "list(itertools.product(*[[i, i + 1] for i in indices]))"
   ]
  },
  {
   "cell_type": "code",
   "execution_count": null,
   "metadata": {},
   "outputs": [],
   "source": []
  }
 ],
 "metadata": {
  "kernelspec": {
   "display_name": "Python 3",
   "language": "python",
   "name": "python3"
  },
  "language_info": {
   "codemirror_mode": {
    "name": "ipython",
    "version": 3
   },
   "file_extension": ".py",
   "mimetype": "text/x-python",
   "name": "python",
   "nbconvert_exporter": "python",
   "pygments_lexer": "ipython3",
   "version": "3.6.1"
  }
 },
 "nbformat": 4,
 "nbformat_minor": 2
}
